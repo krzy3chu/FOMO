{
 "cells": [
  {
   "cell_type": "markdown",
   "metadata": {},
   "source": [
    "# FOMO - Faster Objects, More Objects"
   ]
  },
  {
   "cell_type": "markdown",
   "metadata": {},
   "source": [
    "## FOMO Common"
   ]
  },
  {
   "cell_type": "markdown",
   "metadata": {},
   "source": [
    "#### Import modules"
   ]
  },
  {
   "cell_type": "code",
   "execution_count": 1,
   "metadata": {},
   "outputs": [],
   "source": [
    "from pathlib import Path\n",
    "\n",
    "import cv2\n",
    "import numpy as np\n",
    "import matplotlib.pyplot as plt\n",
    "\n",
    "import torch\n",
    "import torch.nn as nn\n",
    "from torch.utils.data import Dataset, DataLoader, random_split\n",
    "\n",
    "from torchvision.io import read_image\n",
    "from torchvision.transforms import Resize\n",
    "from torchvision.models import mobilenet_v2, MobileNet_V2_Weights\n",
    "\n",
    "import pytorch_lightning as pl\n",
    "\n",
    "from pytorch_lightning.loggers import MLFlowLogger"
   ]
  },
  {
   "cell_type": "markdown",
   "metadata": {},
   "source": [
    "#### Constants"
   ]
  },
  {
   "cell_type": "code",
   "execution_count": 2,
   "metadata": {},
   "outputs": [],
   "source": [
    "DATASET_DIR = Path(\"data\")\n",
    "IMAGE_RESOLUTION = 224\n",
    "GRID_SCALE = 8\n",
    "LEARNING_RATE = 1e-3\n",
    "NUMBER_OF_CLASSES = 1\n",
    "NUMBER_OF_EPOCHS = 100"
   ]
  },
  {
   "cell_type": "markdown",
   "metadata": {},
   "source": [
    "#### BoundingBoxToMask"
   ]
  },
  {
   "cell_type": "code",
   "execution_count": 3,
   "metadata": {},
   "outputs": [],
   "source": [
    "class BoundingBoxToMask:\n",
    "    \"\"\"Convert YOLO bounding boxes to FOMO centroids\"\"\"\n",
    "\n",
    "    def __init__(self, image_resolution: int, grid_scale: int, number_of_classes: int):\n",
    "        self._image_resolution = image_resolution\n",
    "        self._grid_scale = grid_scale\n",
    "        self._number_of_classes = number_of_classes\n",
    "\n",
    "    def __call__(self, label):\n",
    "        grid_resolution = int(self._image_resolution / self._grid_scale)\n",
    "\n",
    "        background_mask = torch.ones((grid_resolution, grid_resolution), dtype=float)\n",
    "\n",
    "        masks = []\n",
    "        for i in range(self._number_of_classes):\n",
    "            class_mask = torch.zeros((grid_resolution, grid_resolution), dtype=float)\n",
    "            bounding_boxes = label.readlines()\n",
    "            for bounding_box in bounding_boxes:\n",
    "                [c, x, y, _, _] = [\n",
    "                    float(coords) for coords in bounding_box.split()\n",
    "                ]  # get bounding box class, position and dimension\n",
    "                if c == i:\n",
    "                    x = int(x * grid_resolution)\n",
    "                    y = int(y * grid_resolution)\n",
    "                    class_mask[y, x] = 1.0\n",
    "                    background_mask[y, x] = 0.0\n",
    "\n",
    "            masks.append(class_mask)\n",
    "        masks = [background_mask] + masks\n",
    "        return torch.stack(masks)"
   ]
  },
  {
   "cell_type": "markdown",
   "metadata": {},
   "source": [
    "#### Dataset"
   ]
  },
  {
   "cell_type": "code",
   "execution_count": 4,
   "metadata": {},
   "outputs": [],
   "source": [
    "class VehicleDataset(Dataset):\n",
    "    def __init__(\n",
    "        self,\n",
    "        dataset_dir: Path,\n",
    "        subset: list[str],\n",
    "        transform=None,\n",
    "        target_transform=None,\n",
    "    ):\n",
    "        self._images = [\n",
    "            dataset_dir / \"images\" / (element + \".jpg\") for element in subset\n",
    "        ]\n",
    "        self._bounding_boxes = [\n",
    "            dataset_dir / \"labels\" / (element + \".txt\") for element in subset\n",
    "        ]\n",
    "        self._transform = transform\n",
    "        self._target_transform = target_transform\n",
    "\n",
    "    def __getitem__(self, idx: int):\n",
    "        image_path = self._images[idx]\n",
    "        image = read_image(str(image_path))\n",
    "        image = self._transform(image.float())\n",
    "\n",
    "        bounding_box_path = self._bounding_boxes[idx]\n",
    "        bounding_box_file = open(bounding_box_path)\n",
    "        mask = self._target_transform(bounding_box_file)\n",
    "\n",
    "        return image, mask\n",
    "\n",
    "    def __len__(self):\n",
    "        return len(self._images)"
   ]
  },
  {
   "cell_type": "markdown",
   "metadata": {},
   "source": [
    "#### DataModule"
   ]
  },
  {
   "cell_type": "code",
   "execution_count": 5,
   "metadata": {},
   "outputs": [],
   "source": [
    "class VehicleDataModule(pl.LightningDataModule):\n",
    "    def __init__(\n",
    "        self,\n",
    "        dataset_dir: Path,\n",
    "        input_resolution: int,\n",
    "        grid_scale: int = 8,\n",
    "        batch_size: int = 32,\n",
    "    ):\n",
    "        super().__init__()\n",
    "        self._dataset_dir = dataset_dir\n",
    "        self._input_resolution = input_resolution  # model input image resolution (assume input is squared shape)\n",
    "        self._grid_scale = grid_scale  # number of pixels per cell on prediction grid (vertically and horizontally)\n",
    "        self._batch_size = batch_size\n",
    "\n",
    "        self._transform = Resize((input_resolution, input_resolution), antialias=True)\n",
    "        self._target_transform = BoundingBoxToMask(input_resolution, grid_scale, 1)\n",
    "        self._train_dataset = None\n",
    "        self._val_dataset = None\n",
    "\n",
    "    def setup(self, stage: str):\n",
    "        data_names = sorted(\n",
    "            [data_name for data_name in (self._dataset_dir / \"images\").iterdir()]\n",
    "        )\n",
    "        train_names, val_names = random_split(data_names, [0.85, 0.15])\n",
    "        self._train_dataset = VehicleDataset(\n",
    "            self._dataset_dir,\n",
    "            [data_names[idx].stem for idx in train_names.indices],\n",
    "            self._transform,\n",
    "            self._target_transform,\n",
    "        )\n",
    "        self._val_dataset = VehicleDataset(\n",
    "            self._dataset_dir,\n",
    "            [data_names[idx].stem for idx in val_names.indices],\n",
    "            self._transform,\n",
    "            self._target_transform,\n",
    "        )\n",
    "\n",
    "    def train_dataloader(self):\n",
    "        return DataLoader(self._train_dataset, batch_size=self._batch_size)\n",
    "\n",
    "    def val_dataloader(self):\n",
    "        return DataLoader(self._val_dataset, batch_size=self._batch_size)"
   ]
  },
  {
   "cell_type": "markdown",
   "metadata": {},
   "source": [
    "#### FOMO network architecture"
   ]
  },
  {
   "cell_type": "code",
   "execution_count": 6,
   "metadata": {},
   "outputs": [],
   "source": [
    "def fomo_net(weights: None, number_of_classes: int) -> nn.Module:\n",
    "    \"\"\"\n",
    "    Constructs a FOMO net model with a specified number of classes.\n",
    "    Input resolution is decreased by a factor of 8.\n",
    "    \"\"\"\n",
    "    model = mobilenet_v2(weights=weights)\n",
    "\n",
    "    # Remove layers after 1/8 reduction\n",
    "    cut_inverted_residual = 7\n",
    "    features = [\n",
    "        nn.Identity() if i > cut_inverted_residual else model.features[i]\n",
    "        for i, _ in enumerate(model.features)\n",
    "    ]\n",
    "    features[cut_inverted_residual].conv[1] = nn.Identity()\n",
    "    features[cut_inverted_residual].conv[2] = nn.Identity()\n",
    "    features[cut_inverted_residual].conv[3] = nn.Identity()\n",
    "    model = nn.Sequential(*features)\n",
    "\n",
    "    # Add classification layers\n",
    "    number_of_classes_with_background = number_of_classes + 1\n",
    "    model.classifier = nn.Sequential(\n",
    "        nn.Conv2d(in_channels=192, out_channels=32, kernel_size=1, stride=1),\n",
    "        nn.ReLU(),\n",
    "        nn.Conv2d(\n",
    "            in_channels=32,\n",
    "            out_channels=number_of_classes_with_background,\n",
    "            kernel_size=1,\n",
    "            stride=1,\n",
    "        ),\n",
    "    )\n",
    "    return model"
   ]
  },
  {
   "cell_type": "markdown",
   "metadata": {},
   "source": [
    "#### LightningModule"
   ]
  },
  {
   "cell_type": "code",
   "execution_count": 7,
   "metadata": {},
   "outputs": [],
   "source": [
    "class FomoModule(pl.LightningModule):\n",
    "    def __init__(self):\n",
    "        super().__init__()\n",
    "        self._network = fomo_net(\n",
    "            weights=MobileNet_V2_Weights.DEFAULT,\n",
    "            number_of_classes=NUMBER_OF_CLASSES,\n",
    "        )\n",
    "        self._loss_function = nn.BCEWithLogitsLoss()  # !!!\n",
    "\n",
    "    def forward(self, inputs: torch.Tensor) -> torch.Tensor:\n",
    "        return self._network(inputs)\n",
    "\n",
    "    def training_step(self, batch, batch_idx):\n",
    "        image, mask = batch\n",
    "        mask_pred = self(image)\n",
    "        loss = self._loss_function(mask_pred, mask)\n",
    "        self.log(\"train_loss\", loss, prog_bar=True)\n",
    "        return loss\n",
    "\n",
    "    def validation_step(self, batch, batch_idx):\n",
    "        image, mask = batch\n",
    "        mask_pred = self(image)\n",
    "        loss = self._loss_function(mask_pred, mask)\n",
    "        self.log(\"val_loss\", loss, prog_bar=True)\n",
    "        return loss\n",
    "\n",
    "    def configure_optimizers(self):\n",
    "        return torch.optim.Adam(self.parameters(), lr=LEARNING_RATE)"
   ]
  },
  {
   "cell_type": "markdown",
   "metadata": {},
   "source": [
    "## FOMO training"
   ]
  },
  {
   "cell_type": "markdown",
   "metadata": {},
   "source": [
    "### Train"
   ]
  },
  {
   "cell_type": "code",
   "execution_count": 9,
   "metadata": {},
   "outputs": [
    {
     "name": "stderr",
     "output_type": "stream",
     "text": [
      "GPU available: True (cuda), used: True\n",
      "TPU available: False, using: 0 TPU cores\n",
      "IPU available: False, using: 0 IPUs\n",
      "HPU available: False, using: 0 HPUs\n",
      "Experiment with name FOMO not found. Creating it.\n",
      "LOCAL_RANK: 0 - CUDA_VISIBLE_DEVICES: [0]\n",
      "\n",
      "  | Name           | Type              | Params\n",
      "-----------------------------------------------------\n",
      "0 | _network       | Sequential        | 68.3 K\n",
      "1 | _loss_function | BCEWithLogitsLoss | 0     \n",
      "-----------------------------------------------------\n",
      "68.3 K    Trainable params\n",
      "0         Non-trainable params\n",
      "68.3 K    Total params\n",
      "0.273     Total estimated model params size (MB)\n"
     ]
    },
    {
     "name": "stdout",
     "output_type": "stream",
     "text": [
      "Epoch 99: 100%|██████████| 4/4 [00:01<00:00,  2.08it/s, v_num=558f, train_loss=0.00347, val_loss=0.0301]"
     ]
    },
    {
     "name": "stderr",
     "output_type": "stream",
     "text": [
      "`Trainer.fit` stopped: `max_epochs=100` reached.\n"
     ]
    },
    {
     "name": "stdout",
     "output_type": "stream",
     "text": [
      "Epoch 99: 100%|██████████| 4/4 [00:01<00:00,  2.06it/s, v_num=558f, train_loss=0.00347, val_loss=0.0301]\n"
     ]
    }
   ],
   "source": [
    "fomo_module = FomoModule()\n",
    "vehicle_data_module = VehicleDataModule(\n",
    "    dataset_dir=DATASET_DIR,\n",
    "    input_resolution=IMAGE_RESOLUTION,\n",
    "    grid_scale=GRID_SCALE,\n",
    ")\n",
    "\n",
    "mlflow_logger = MLFlowLogger(\n",
    "    experiment_name=\"FOMO\",\n",
    "    tracking_uri=\"file:./mlruns\",\n",
    "    log_model=True,\n",
    ")\n",
    "trainer = pl.Trainer(max_epochs=NUMBER_OF_EPOCHS, logger=mlflow_logger)\n",
    "trainer.fit(model=fomo_module, datamodule=vehicle_data_module)"
   ]
  },
  {
   "cell_type": "markdown",
   "metadata": {},
   "source": [
    "### TESTS"
   ]
  },
  {
   "cell_type": "code",
   "execution_count": 346,
   "metadata": {},
   "outputs": [],
   "source": [
    "vehicle_data_module.setup(stage=None)\n",
    "train_loader = vehicle_data_module.train_dataloader()\n",
    "data = next(iter(train_loader))"
   ]
  },
  {
   "cell_type": "code",
   "execution_count": null,
   "metadata": {},
   "outputs": [
    {
     "name": "stdout",
     "output_type": "stream",
     "text": [
      "torch.Size([2, 28, 28])\n",
      "There are 769 objects in the picture\n"
     ]
    },
    {
     "data": {
      "image/png": "[encoded data removed]",
      "text/plain": [
       "<Figure size 640x480 with 1 Axes>"
      ]
     },
     "metadata": {},
     "output_type": "display_data"
    }
   ],
   "source": [
    "data_idx = 3\n",
    "image = data[0][data_idx]\n",
    "mask = data[1][data_idx]\n",
    "\n",
    "print(mask.shape)\n",
    "\n",
    "mask = mask[0]\n",
    "\n",
    "image = image.permute(1, 2, 0).numpy().astype(int)\n",
    "mask = mask.numpy()\n",
    "\n",
    "mask_res = cv2.resize(mask, dsize=(IMAGE_RESOLUTION, IMAGE_RESOLUTION), interpolation=cv2.INTER_NEAREST)\n",
    "image[mask_res == 1] = [255, 0, 0]\n",
    "plt.imshow(image)\n",
    "\n",
    "cnt = np.count_nonzero(mask == 1)\n",
    "print(\"There are\", str(cnt), \"objects in the picture\")"
   ]
  }
 ],
 "metadata": {
  "kernelspec": {
   "display_name": ".fomo_venv",
   "language": "python",
   "name": "python3"
  },
  "language_info": {
   "codemirror_mode": {
    "name": "ipython",
    "version": 3
   },
   "file_extension": ".py",
   "mimetype": "text/x-python",
   "name": "python",
   "nbconvert_exporter": "python",
   "pygments_lexer": "ipython3",
   "version": "3.10.12"
  }
 },
 "nbformat": 4,
 "nbformat_minor": 2
}
